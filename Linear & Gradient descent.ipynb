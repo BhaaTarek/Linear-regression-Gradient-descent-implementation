{
 "cells": [
  {
   "cell_type": "code",
   "execution_count": null,
   "id": "4daac8ad",
   "metadata": {},
   "outputs": [],
   "source": [
    "import random\n",
    "def simple_trick(m, b, r, p, n1=None, n2=None):\n",
    "    if n1 is None:\n",
    "        n1 = random.uniform(0.001, 0.01)\n",
    "    if n2 is None:\n",
    "        n2 = random.uniform(0.001, 0.01)\n",
    "\n",
    "    p_predicted = m*r+b\n",
    "\n",
    "    # Case 1:\n",
    "    if p > p_predicted and r > 0:  \n",
    "        m_new = m+n1\n",
    "        b_new = b+n2\n",
    "\n",
    "    # Case 2:\n",
    "    elif p > p_predicted and r < 0:  \n",
    "        \n",
    "        m_new = m-n1\n",
    "        b_new = b+n2\n",
    "    # Case 3:\n",
    "    elif p < p_predicted and r > 0:  \n",
    "        m_new = m-n1\n",
    "        b_new = b-n2\n",
    "\n",
    "    # Case 4:\n",
    "    else:  \n",
    "        m_new = m+n1\n",
    "        b_new = b-n2\n",
    "\n",
    "    return m_new, b_new"
   ]
  },
  {
   "cell_type": "code",
   "execution_count": 14,
   "id": "7e6d9ba8",
   "metadata": {},
   "outputs": [],
   "source": [
    "def square_trick(b, w, x, y, learning_rate):\n",
    "    y_predicted = b + w*x      \n",
    "    b += learning_rate*(y-y_predicted)   \n",
    "    w += learning_rate*x*(y-y_predicted)   \n",
    "    return w, b"
   ]
  },
  {
   "cell_type": "code",
   "execution_count": 15,
   "id": "9c33ab85",
   "metadata": {},
   "outputs": [],
   "source": [
    "def absolute_trick(b, w, x, y, learning_rate):\n",
    "    predicted_y = b + w*x\n",
    "    if y > predicted_y:\n",
    "        w += learning_rate*x\n",
    "        b += learning_rate\n",
    "    else:\n",
    "        w -= learning_rate*x\n",
    "        b -= learning_rate\n",
    "    return w, b"
   ]
  },
  {
   "cell_type": "code",
   "execution_count": 16,
   "id": "4791b502",
   "metadata": {},
   "outputs": [],
   "source": [
    "def Gradiant_Single(b, w, x, y, learning_rate):\n",
    "    y_predicted = b + w*x      \n",
    "    b += learning_rate*(y-y_predicted)   \n",
    "    w += learning_rate*x*(y-y_predicted)   \n",
    "    return w, b"
   ]
  },
  {
   "cell_type": "code",
   "execution_count": null,
   "id": "f6c300f8",
   "metadata": {},
   "outputs": [],
   "source": [
    "def Gradient_Multi(b, w, x, y, learning_rate):\n",
    "    y_pred = 0\n",
    "    for i in range(len(x)):\n",
    "        y_pred += w[i] * x[i]\n",
    "    y_pred += b\n",
    "    \n",
    "    b +=learning_rate *(y - y_pred)\n",
    "    \n",
    "    for i in range(len(w)):\n",
    "        w[i] += learning_rate*x[i]*(y - y_pred)\n",
    "    \n",
    "    return w, b"
   ]
  }
 ],
 "metadata": {
  "kernelspec": {
   "display_name": "Python 3",
   "language": "python",
   "name": "python3"
  },
  "language_info": {
   "codemirror_mode": {
    "name": "ipython",
    "version": 3
   },
   "file_extension": ".py",
   "mimetype": "text/x-python",
   "name": "python",
   "nbconvert_exporter": "python",
   "pygments_lexer": "ipython3",
   "version": "3.10.11"
  }
 },
 "nbformat": 4,
 "nbformat_minor": 5
}
