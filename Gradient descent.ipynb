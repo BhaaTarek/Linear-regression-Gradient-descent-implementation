{
 "cells": [
  {
   "cell_type": "code",
   "execution_count": 1,
   "id": "4daac8ad",
   "metadata": {},
   "outputs": [],
   "source": [
    "import numpy as np\n",
    "import random\n",
    "\n",
    "X = np.array([1, 2, 3, 4, 5, 6, 7], dtype=float)\n",
    "Y = np.array([155, 197, 244, 297, 356, 407, 448], dtype=float)"
   ]
  },
  {
   "cell_type": "code",
   "execution_count": 2,
   "id": "4791b502",
   "metadata": {},
   "outputs": [],
   "source": [
    "def Gradiant_Single(b, w, x, y, learning_rate):\n",
    "    y_predicted = b + w*x      \n",
    "    b += learning_rate*(y-y_predicted)   \n",
    "    w += learning_rate*x*(y-y_predicted)   \n",
    "    return w, b"
   ]
  },
  {
   "cell_type": "code",
   "execution_count": 3,
   "id": "e351c0c0",
   "metadata": {},
   "outputs": [
    {
     "name": "stdout",
     "output_type": "stream",
     "text": [
      "predicted w: 50.14, b: 99.93\n",
      "Predictions: [150.06194218 200.19699739 250.3320526  300.46710781 350.60216302\n",
      " 400.73721823 450.87227344]\n",
      "Actual: [155. 197. 244. 297. 356. 407. 448.]\n"
     ]
    }
   ],
   "source": [
    "w=0.0\n",
    "b=0.0\n",
    "learning_rate=0.01\n",
    "\n",
    "for epoch in range(1000):\n",
    "    for i in range(len(X)):\n",
    "        w, b = Gradiant_Single(b, w, X[i], Y[i], learning_rate)\n",
    "\n",
    "print(f\"predicted w: {w:.2f}, b: {b:.2f}\")\n",
    "predictions=w*X+b\n",
    "print(\"Predictions:\", predictions)\n",
    "print(\"Actual:\", Y)"
   ]
  },
  {
   "cell_type": "code",
   "execution_count": 4,
   "id": "f4dbdfb1",
   "metadata": {},
   "outputs": [],
   "source": [
    "rooms = np.array([1, 2, 3, 4, 5, 6, 7], dtype=float)\n",
    "size = np.array([7, 9, 12, 15, 18, 21, 24], dtype=float) \n",
    "age  = np.array([30, 25, 20, 15, 10, 8, 5], dtype=float)\n",
    "\n",
    "price = np.array([155, 197, 244, 297, 356, 407, 448], dtype=float)\n",
    "\n",
    "X2 = np.column_stack((rooms, size, age))\n",
    "Y2 = price\n"
   ]
  },
  {
   "cell_type": "code",
   "execution_count": 5,
   "id": "f6c300f8",
   "metadata": {},
   "outputs": [],
   "source": [
    "def Gradient_Multi(b, w, x, y, learning_rate):\n",
    "    y_pred = 0\n",
    "    for i in range(len(x)):\n",
    "        y_pred += w[i] * x[i]\n",
    "    y_pred += b\n",
    "    \n",
    "    b +=learning_rate *(y - y_pred)\n",
    "    \n",
    "    for i in range(len(w)):\n",
    "        w[i] += learning_rate*x[i]*(y - y_pred)\n",
    "    \n",
    "    return w, b"
   ]
  },
  {
   "cell_type": "code",
   "execution_count": 6,
   "id": "aafe506f",
   "metadata": {},
   "outputs": [
    {
     "name": "stdout",
     "output_type": "stream",
     "text": [
      "Learned weights: [ 6.40180899 16.59279498  1.30009976], bias: 2.2581615654641123\n",
      "Predictions: [163.81252832 196.89942844 246.57912354 296.25881863 345.93851373\n",
      " 399.51850812 451.79840274]\n",
      "Actual: [155. 197. 244. 297. 356. 407. 448.]\n"
     ]
    }
   ],
   "source": [
    "w = np.zeros(X2.shape[1])\n",
    "b = 0.0\n",
    "learning_rate = 0.001\n",
    "\n",
    "for epoch in range(1000):\n",
    "    for i in range(len(X2)):\n",
    "        w, b = Gradient_Multi(b, w, X2[i], Y2[i], learning_rate)\n",
    "\n",
    "print(f\"Learned weights: {w}, bias: {b}\")\n",
    "\n",
    "predictions = X2.dot(w) + b\n",
    "print(\"Predictions:\", predictions)\n",
    "print(\"Actual:\", Y2)"
   ]
  }
 ],
 "metadata": {
  "kernelspec": {
   "display_name": "Python 3",
   "language": "python",
   "name": "python3"
  },
  "language_info": {
   "codemirror_mode": {
    "name": "ipython",
    "version": 3
   },
   "file_extension": ".py",
   "mimetype": "text/x-python",
   "name": "python",
   "nbconvert_exporter": "python",
   "pygments_lexer": "ipython3",
   "version": "3.10.11"
  }
 },
 "nbformat": 4,
 "nbformat_minor": 5
}
