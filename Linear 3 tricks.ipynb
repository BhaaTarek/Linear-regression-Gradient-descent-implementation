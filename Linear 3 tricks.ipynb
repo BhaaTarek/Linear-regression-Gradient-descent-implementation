{
 "cells": [
  {
   "cell_type": "code",
   "execution_count": 43,
   "id": "4daac8ad",
   "metadata": {},
   "outputs": [],
   "source": [
    "import numpy as np\n",
    "import random\n",
    "\n",
    "X = np.array([1, 2, 3, 4, 5, 6, 7], dtype=float)\n",
    "Y = np.array([155, 197, 244, 297, 356, 407, 448], dtype=float)"
   ]
  },
  {
   "cell_type": "code",
   "execution_count": 44,
   "id": "3a52bc48",
   "metadata": {},
   "outputs": [],
   "source": [
    "def simple_trick(m, b, r, p, n1=None, n2=None):\n",
    "    \n",
    "    n1 = random.uniform(0.001, 0.01)\n",
    "    n2 = random.uniform(0.001, 0.01)\n",
    "\n",
    "    p_predicted = m*r+b\n",
    "\n",
    "    # Case 1:\n",
    "    if p > p_predicted and r > 0:  \n",
    "        m_new = m+n1\n",
    "        b_new = b+n2\n",
    "\n",
    "    # Case 2:\n",
    "    elif p > p_predicted and r < 0:  \n",
    "        \n",
    "        m_new = m-n1\n",
    "        b_new = b+n2\n",
    "    # Case 3:\n",
    "    elif p < p_predicted and r > 0:  \n",
    "        m_new = m-n1\n",
    "        b_new = b-n2\n",
    "\n",
    "    # Case 4:\n",
    "    else:  \n",
    "        m_new = m+n1\n",
    "        b_new = b-n2\n",
    "\n",
    "    return m_new, b_new\n"
   ]
  },
  {
   "cell_type": "code",
   "execution_count": 45,
   "id": "7e6d9ba8",
   "metadata": {},
   "outputs": [],
   "source": [
    "def square_trick(b, w, x, y, learning_rate):\n",
    "    y_predicted = b + w*x      \n",
    "    b += learning_rate*(y-y_predicted)   \n",
    "    w += learning_rate*x*(y-y_predicted)   \n",
    "    return w, b"
   ]
  },
  {
   "cell_type": "code",
   "execution_count": 46,
   "id": "9c33ab85",
   "metadata": {},
   "outputs": [],
   "source": [
    "def absolute_trick(b, w, x, y, learning_rate):\n",
    "    predicted_y = b + w*x\n",
    "    if y > predicted_y:\n",
    "        w += learning_rate*x\n",
    "        b += learning_rate\n",
    "    else:\n",
    "        w -= learning_rate*x\n",
    "        b -= learning_rate\n",
    "    return w, b"
   ]
  },
  {
   "cell_type": "code",
   "execution_count": 47,
   "id": "1e6fda63",
   "metadata": {},
   "outputs": [
    {
     "name": "stdout",
     "output_type": "stream",
     "text": [
      "predicted m: 59.80, b: 57.70\n",
      "Predictions: [117.49915159 177.30062001 237.10208842 296.90355684 356.70502525\n",
      " 416.50649367 476.30796209]\n",
      "Actual: [155. 197. 244. 297. 356. 407. 448.]\n"
     ]
    }
   ],
   "source": [
    "m = random.uniform(-1, 1)\n",
    "b = random.uniform(-1, 1)\n",
    "\n",
    "for epoch in range(10000):\n",
    "    for i in range(len(X)):\n",
    "        m, b = simple_trick(m, b, X[i], Y[i])\n",
    "\n",
    "print(f\"predicted m: {m:.2f}, b: {b:.2f}\")\n",
    "predictions=m*X+b\n",
    "print(\"Predictions:\", predictions)\n",
    "print(\"Actual:\", Y)"
   ]
  },
  {
   "cell_type": "code",
   "execution_count": 48,
   "id": "4f8d6a26",
   "metadata": {},
   "outputs": [
    {
     "name": "stdout",
     "output_type": "stream",
     "text": [
      "predicted w: 50.14, b: 99.93\n",
      "Predictions: [150.06194218 200.19699739 250.3320526  300.46710781 350.60216302\n",
      " 400.73721823 450.87227344]\n",
      "Actual: [155. 197. 244. 297. 356. 407. 448.]\n"
     ]
    }
   ],
   "source": [
    "w=0.0\n",
    "b=0.0\n",
    "learning_rate = 0.01\n",
    "\n",
    "for epoch in range(1000):\n",
    "    for i in range(len(X)):\n",
    "        w, b = square_trick(b, w, X[i], Y[i], learning_rate)\n",
    "\n",
    "print(f\"predicted w: {w:.2f}, b: {b:.2f}\")\n",
    "predictions=w*X+b\n",
    "print(\"Predictions:\", predictions)\n",
    "print(\"Actual:\", Y)"
   ]
  },
  {
   "cell_type": "code",
   "execution_count": 49,
   "id": "0f604926",
   "metadata": {},
   "outputs": [
    {
     "name": "stdout",
     "output_type": "stream",
     "text": [
      "predicted w: 63.88, b: 36.04\n",
      "Predictions: [ 99.92 163.8  227.68 291.56 355.44 419.32 483.2 ]\n",
      "Actual: [155. 197. 244. 297. 356. 407. 448.]\n"
     ]
    }
   ],
   "source": [
    "w=0\n",
    "b=0\n",
    "learning_rate=0.01\n",
    "\n",
    "for epoch in range(1000):\n",
    "    for i in range(len(X)):\n",
    "        w, b = absolute_trick(b, w, X[i], Y[i], learning_rate)\n",
    "\n",
    "print(f\"predicted w: {w:.2f}, b: {b:.2f}\")\n",
    "predictions=w*X+b\n",
    "print(\"Predictions:\", predictions)\n",
    "print(\"Actual:\", Y)"
   ]
  }
 ],
 "metadata": {
  "kernelspec": {
   "display_name": "Python 3",
   "language": "python",
   "name": "python3"
  },
  "language_info": {
   "codemirror_mode": {
    "name": "ipython",
    "version": 3
   },
   "file_extension": ".py",
   "mimetype": "text/x-python",
   "name": "python",
   "nbconvert_exporter": "python",
   "pygments_lexer": "ipython3",
   "version": "3.10.11"
  }
 },
 "nbformat": 4,
 "nbformat_minor": 5
}
